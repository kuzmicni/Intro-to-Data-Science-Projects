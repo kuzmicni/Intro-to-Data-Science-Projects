{
 "cells": [
  {
   "cell_type": "code",
   "execution_count": 31,
   "metadata": {
    "collapsed": false,
    "deletable": true,
    "editable": true
   },
   "outputs": [
    {
     "name": "stdout",
     "output_type": "stream",
     "text": [
      "0.9713467048710601\n"
     ]
    },
    {
     "data": {
      "image/png": "[encoded data removed]",
      "text/plain": [
       "<matplotlib.figure.Figure at 0x7f0eeeedc650>"
      ]
     },
     "metadata": {},
     "output_type": "display_data"
    }
   ],
   "source": [
    "#This code was built as part of Introduction to Data Science and Analytics course taught by Anna Simkin & https://gist.github.com/Mashimo/3b412bd629d17a79a6dd5c44330508cd\n",
    "def plotDecisionBoundary(model, X, y):\n",
    "    fig = plt.figure()\n",
    "    ax = fig.add_subplot(111)\n",
    "\n",
    "    padding = 0.6\n",
    "    resolution = 0.025\n",
    "    colors = ['blue','red']\n",
    "\n",
    "  # Calculate the boundaris\n",
    "    x_min, x_max = X[:, 0].min(), X[:, 0].max()\n",
    "    y_min, y_max = X[:, 1].min(), X[:, 1].max()\n",
    "    x_range = x_max - x_min\n",
    "    y_range = y_max - y_min\n",
    "    x_min -= x_range * padding\n",
    "    y_min -= y_range * padding\n",
    "    x_max += x_range * padding\n",
    "    y_max += y_range * padding\n",
    "\n",
    "  # Create a 2D Grid Matrix. The values stored in the matrix\n",
    "  # are the predictions of the class at at said location\n",
    "    xx, yy = np.meshgrid(np.arange(x_min, x_max, resolution),\n",
    "                       np.arange(y_min, y_max, resolution))\n",
    "    Z = model.predict(np.c_[xx.ravel(), yy.ravel()])\n",
    "    Z = Z.reshape(xx.shape)\n",
    "\n",
    "  # Plot the contour map\n",
    "    cs = plt.contourf(xx, yy, Z, cmap=plt.cm.terrain)\n",
    "\n",
    "##################################################\n",
    "import numpy as np\n",
    "import pandas as pd\n",
    "import matplotlib.pyplot as plt\n",
    "import matplotlib\n",
    "matplotlib.style.use('ggplot')\n",
    "from matplotlib.colors import ListedColormap\n",
    "from sklearn import preprocessing\n",
    "from sklearn.model_selection import train_test_split\n",
    "from sklearn.decomposition import PCA\n",
    "from sklearn.neighbors import KNeighborsClassifier\n",
    "from sklearn import neighbors,datasets\n",
    "\n",
    "X = pd.read_csv('breast-cancer-wisconsin.data', sep=',')\n",
    "\n",
    "X.columns= ['sample', 'thickness', 'size', 'shape', 'adhesion', 'epithelial',\n",
    "'nuclei', 'chromatin', 'nucleoli', 'mitoses', 'class'];\n",
    "\n",
    "#print(X.dtypes)\n",
    "\n",
    "\n",
    "# convert the object data to numeric, fill NAN with the mean values for nuclei\n",
    "X.nuclei = pd.to_numeric(X.nuclei, errors='coerce')\n",
    "X.nuclei = X.nuclei.fillna(X.nuclei.mean())\n",
    "\n",
    "#separate the class label as a label y (2 for benign, 4 for malignant)\n",
    "y = X['class']\n",
    "#print(y.head())\n",
    "#print(X.head(10))\n",
    "X=X.drop(labels=['sample','class'],axis=1)\n",
    "#split the train and test data sets\n",
    "data = X;\n",
    "labels = y;\n",
    "data_train,data_test,label_train,label_test=train_test_split(data,labels,test_size=0.5, random_state=7)\n",
    "\n",
    "#preprocessing scaling\n",
    "TrainData = preprocessing.StandardScaler().fit_transform(data_train)\n",
    "TestData=preprocessing.StandardScaler().fit_transform(data_test)\n",
    "\n",
    "#Principal Component Analysis - dimensionality reduction algorithms\n",
    "#The goal is to derive a set of degrees of freedom to capture most of the variability in our data\n",
    "\n",
    "from sklearn.decomposition import PCA\n",
    "pca = PCA(n_components=2) # 2 principal components \n",
    "pca.fit(TrainData)\n",
    "X_train=pca.transform(TrainData)\n",
    "X_test=pca.transform(TestData)\n",
    "\n",
    "#training the model with the knn algorithm\n",
    "y_train = label_train\n",
    "from sklearn.neighbors import KNeighborsClassifier\n",
    "n_neighbors=10\n",
    "knn = KNeighborsClassifier(n_neighbors) \n",
    "knn.fit(X_train, y_train)\n",
    "\n",
    "y_test=label_test\n",
    "a=knn.score(X_test,y_test) #returns the mean accuracy on the test data\n",
    "print(a)\n",
    "\n",
    "plotDecisionBoundary(knn,X_test,y_test)\n",
    "plt.show()\n",
    "#blue = benign,red = malignant\n",
    "\n"
   ]
  },
  {
   "cell_type": "code",
   "execution_count": null,
   "metadata": {
    "collapsed": true,
    "deletable": true,
    "editable": true
   },
   "outputs": [],
   "source": []
  },
  {
   "cell_type": "code",
   "execution_count": null,
   "metadata": {
    "collapsed": true,
    "deletable": true,
    "editable": true
   },
   "outputs": [],
   "source": []
  }
 ],
 "metadata": {
  "kernelspec": {
   "display_name": "Python 2",
   "language": "python",
   "name": "python2"
  },
  "language_info": {
   "codemirror_mode": {
    "name": "ipython",
    "version": 2
   },
   "file_extension": ".py",
   "mimetype": "text/x-python",
   "name": "python",
   "nbconvert_exporter": "python",
   "pygments_lexer": "ipython2",
   "version": "2.7.13"
  }
 },
 "nbformat": 4,
 "nbformat_minor": 2
}
